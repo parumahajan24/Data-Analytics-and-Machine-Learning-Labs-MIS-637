{
  "cells": [
    {
      "cell_type": "markdown",
      "metadata": {
        "id": "view-in-github",
        "colab_type": "text"
      },
      "source": [
        "<a href=\"https://colab.research.google.com/github/parumahajan24/Data-Analytics-and-Machine-Learning-Labs-MIS-637/blob/main/hw7.ipynb\" target=\"_parent\"><img src=\"https://colab.research.google.com/assets/colab-badge.svg\" alt=\"Open In Colab\"/></a>"
      ]
    },
    {
      "cell_type": "markdown",
      "id": "ee27dd9b",
      "metadata": {
        "id": "ee27dd9b"
      },
      "source": [
        "# Homework 7: Decision Tree\n",
        "### Due Saturday, March 25, 11:59 PM\n",
        "\n",
        "This homework is based on the materials covered in week 6 and 7 about decision tree algorithms.\n",
        "\n",
        "You will work with a dataset containing a bank's customer information. You will act as a Data scientist for the bank to build a model that will help the bank's marketing department to identify the potential customers who have a higher probability of purchasing a loan product.\n",
        "\n",
        "The dataset contains the following attributes:\n",
        "- ID: Customer ID\n",
        "- Age: Customer’s age in completed years\n",
        "- Experience: #years of professional experience\n",
        "- Income: Annual income of the customer (in thousand dollars)\n",
        "- ZIP Code: Home Address ZIP code.\n",
        "- Family: the Family size of the customer\n",
        "- CCAvg: Average spending on credit cards per month (in thousand dollars)\n",
        "- Education: Education Level. 1: Undergrad; 2: Graduate;3: Advanced/Professional\n",
        "- Mortgage: Value of house mortgage if any. (in thousand dollars)\n",
        "- Personal_Loan: Did this customer accept the personal loan offered in the last campaign?\n",
        "- Securities_Account: Does the customer have securities account with the bank?\n",
        "- CD_Account: Does the customer have a certificate of deposit (CD) account with the bank?\n",
        "- Online: Do customers use internet banking facilities?\n",
        "- CreditCard: Does the customer use a credit card issued by any other Bank (excluding All life Bank)?\n",
        "\n",
        "Please use Python as the coding language. You are free to use existing Python libraries. Please make sure your codes can run successfully, no points will be given for a question if the code fails to run."
      ]
    },
    {
      "cell_type": "markdown",
      "id": "225fedfc",
      "metadata": {
        "id": "225fedfc"
      },
      "source": [
        "### Preparation: load dataset\n",
        "Download the dataset 'bank_customer.csv' and store it in the same folder as this Jupyter notebook. Use the following codes to load the dataset."
      ]
    },
    {
      "cell_type": "code",
      "execution_count": 76,
      "id": "4f082096",
      "metadata": {
        "colab": {
          "base_uri": "https://localhost:8080/"
        },
        "id": "4f082096",
        "outputId": "9f926935-3267-4791-d19c-7b378b21d48d"
      },
      "outputs": [
        {
          "output_type": "stream",
          "name": "stdout",
          "text": [
            "<class 'pandas.core.frame.DataFrame'>\n",
            "RangeIndex: 5000 entries, 0 to 4999\n",
            "Data columns (total 14 columns):\n",
            " #   Column              Non-Null Count  Dtype  \n",
            "---  ------              --------------  -----  \n",
            " 0   ID                  5000 non-null   int64  \n",
            " 1   Age                 5000 non-null   int64  \n",
            " 2   Experience          5000 non-null   int64  \n",
            " 3   Income              5000 non-null   int64  \n",
            " 4   ZIP Code            5000 non-null   int64  \n",
            " 5   Family              5000 non-null   int64  \n",
            " 6   CCAvg               5000 non-null   float64\n",
            " 7   Education           5000 non-null   int64  \n",
            " 8   Mortgage            5000 non-null   int64  \n",
            " 9   Personal Loan       5000 non-null   int64  \n",
            " 10  Securities Account  5000 non-null   int64  \n",
            " 11  CD Account          5000 non-null   int64  \n",
            " 12  Online              5000 non-null   int64  \n",
            " 13  CreditCard          5000 non-null   int64  \n",
            "dtypes: float64(1), int64(13)\n",
            "memory usage: 547.0 KB\n"
          ]
        }
      ],
      "source": [
        "import numpy as np\n",
        "import pandas as pd\n",
        "\n",
        "df = pd.read_csv('/bank_customer.csv')\n",
        "df.info()"
      ]
    },
    {
      "cell_type": "markdown",
      "id": "57c28265",
      "metadata": {
        "id": "57c28265"
      },
      "source": [
        "To simplify the following analysis, we drop 'ID', 'ZIP Code', 'Family', 'Mortgage' columns from the dataframe."
      ]
    },
    {
      "cell_type": "code",
      "execution_count": 77,
      "id": "1ac0bda9",
      "metadata": {
        "colab": {
          "base_uri": "https://localhost:8080/"
        },
        "id": "1ac0bda9",
        "outputId": "a416b77f-710f-44c7-8438-b97821e52f30"
      },
      "outputs": [
        {
          "output_type": "stream",
          "name": "stdout",
          "text": [
            "<class 'pandas.core.frame.DataFrame'>\n",
            "RangeIndex: 5000 entries, 0 to 4999\n",
            "Data columns (total 10 columns):\n",
            " #   Column              Non-Null Count  Dtype  \n",
            "---  ------              --------------  -----  \n",
            " 0   Age                 5000 non-null   int64  \n",
            " 1   Experience          5000 non-null   int64  \n",
            " 2   Income              5000 non-null   int64  \n",
            " 3   CCAvg               5000 non-null   float64\n",
            " 4   Education           5000 non-null   int64  \n",
            " 5   Personal Loan       5000 non-null   int64  \n",
            " 6   Securities Account  5000 non-null   int64  \n",
            " 7   CD Account          5000 non-null   int64  \n",
            " 8   Online              5000 non-null   int64  \n",
            " 9   CreditCard          5000 non-null   int64  \n",
            "dtypes: float64(1), int64(9)\n",
            "memory usage: 390.8 KB\n"
          ]
        }
      ],
      "source": [
        "df = df.drop(['ID','ZIP Code','Family','Mortgage'],axis=1)\n",
        "df.info()"
      ]
    },
    {
      "cell_type": "markdown",
      "id": "3fc9ea73",
      "metadata": {
        "id": "3fc9ea73"
      },
      "source": [
        "### Q1. Understand the dataset (1 point)\n",
        "From the output from `df.info()`, we observe that this dataset contains records on 5000 customers and there is no missing data. The dataset contains a mix of numerical and categorical attributes, and all categorical data are represented with numbers. Note: you do not need to consider the 4 columns that have been dropped.\n",
        "\n",
        "1. Identify all categorical attributes, and use the proper command to report the number of unique values in each categorical column. (0.5 point)\n",
        "2. Identify all numerical attributes, and use the proper command to report the range and quartile of each numerical column. (0.5 point)"
      ]
    },
    {
      "cell_type": "markdown",
      "id": "25c2d4d1",
      "metadata": {
        "id": "25c2d4d1"
      },
      "source": [
        " *Space reserved for writing explanation for Q1.1*\n",
        " Based on the type of data each attribute represent, I have identified Categorical attributes (discrete categories or labels) and Numerical attributes (continuous numerical values) as follows:"
      ]
    },
    {
      "cell_type": "code",
      "execution_count": 78,
      "id": "88ae5a9c",
      "metadata": {
        "colab": {
          "base_uri": "https://localhost:8080/"
        },
        "id": "88ae5a9c",
        "outputId": "894fbd9b-bc0f-473e-90ae-d871ba28c62b"
      },
      "outputs": [
        {
          "output_type": "stream",
          "name": "stdout",
          "text": [
            "Column 'Education' has 3 unique values.\n",
            "Column 'Personal Loan' has 2 unique values.\n",
            "Column 'Securities Account' has 2 unique values.\n",
            "Column 'CD Account' has 2 unique values.\n",
            "Column 'Online' has 2 unique values.\n",
            "Column 'CreditCard' has 2 unique values.\n"
          ]
        }
      ],
      "source": [
        "# Enter your code for Q1.1 here\n",
        "\n",
        "# Categorical attributes\n",
        "categorical_columns = ['Education', 'Personal Loan', 'Securities Account','CD Account','Online','CreditCard' ]\n",
        "\n",
        "# Report the number of unique values in each categorical column\n",
        "for col in categorical_columns:\n",
        "    unique_count = df[col].nunique()\n",
        "    print(f\"Column '{col}' has {unique_count} unique values.\")\n"
      ]
    },
    {
      "cell_type": "markdown",
      "id": "20c42851",
      "metadata": {
        "id": "20c42851"
      },
      "source": [
        "*Space reserved for writing explanation for Q1.2*\n"
      ]
    },
    {
      "cell_type": "code",
      "execution_count": 79,
      "id": "224d2f83",
      "metadata": {
        "colab": {
          "base_uri": "https://localhost:8080/"
        },
        "id": "224d2f83",
        "outputId": "b6ed3dbe-6db2-4469-98d3-f57258e333e2"
      },
      "outputs": [
        {
          "output_type": "stream",
          "name": "stdout",
          "text": [
            "Column 'Age': Range = 44, Quartiles (25%, 50%, 75%) = [35. 45. 55.]\n",
            "Column 'Experience': Range = 46, Quartiles (25%, 50%, 75%) = [10. 20. 30.]\n",
            "Column 'Income': Range = 216, Quartiles (25%, 50%, 75%) = [39. 64. 98.]\n",
            "Column 'CCAvg': Range = 10.0, Quartiles (25%, 50%, 75%) = [0.7 1.5 2.5]\n"
          ]
        }
      ],
      "source": [
        "# Enter your code for Q1.2 here\n",
        "\n",
        "# Numerical attributes\n",
        "numerical_columns = ['Age', 'Experience', 'Income', 'CCAvg']\n",
        "\n",
        "# Report range and quartiles of each numerical column\n",
        "for col in numerical_columns:\n",
        "    range = np.ptp(df[col])\n",
        "    quartiles = df[col].quantile([0.25, 0.5, 0.75])\n",
        "    print(f\"Column '{col}': Range = {range}, Quartiles (25%, 50%, 75%) = {quartiles.values}\")\n",
        "\n"
      ]
    },
    {
      "cell_type": "markdown",
      "id": "a220e24c",
      "metadata": {
        "id": "a220e24c"
      },
      "source": [
        "### Q2. Create separate arrays to store features and target label (2 point)\n",
        "In this dataset, the target label is indicated in the column 'Personal Loan': a '1' value means the customer accepted a loan in the previous campaign, and a '0' values means the customer did not accept. We use all other columns as features to predict the classification in 'Personal Loan'.\n",
        "\n",
        "You need to create the following arrays.\n",
        "- X: stores all predictor variables\n",
        "- y: stores all target label\n",
        "\n",
        "For all numerical attributes, you need to encode them as categorical attributes based on the quartile. For example, for the 'Age' attribute, you need to encode it as a new attribute 'Age_cat':\n",
        "- Age_cat = 0, if Age <= Q1, where Q1 is the first quartile (25 percent value among all ages)\n",
        "- Age_cat = 1, if Age > Q1 and Age <= Q2, where Q2 is the second quartile (50 percent value among all ages)\n",
        "- Age_cat = 2, if Age > Q2 and Age <= Q3, where Q3 is the third quartile (75 percent value among all ages)\n",
        "- Age_cat = 3, if Age > Q3\n",
        "\n",
        "1. Create y (0.5 point)\n",
        "2. Create X and properly encode all numerical values (1.5 point) Note: after encoding, remember to drop the original numerical attributes. The shape of the generated X should be (5000,9)."
      ]
    },
    {
      "cell_type": "markdown",
      "id": "18a929ab",
      "metadata": {
        "id": "18a929ab"
      },
      "source": [
        "*Space reserved for writing explanation for Q2*\n"
      ]
    },
    {
      "cell_type": "code",
      "execution_count": 80,
      "id": "5ac00781",
      "metadata": {
        "id": "5ac00781"
      },
      "outputs": [],
      "source": [
        "# Enter your code for Q2.1 here\n",
        "\n",
        "# Create target label, y\n",
        "y = df['Personal Loan'].values\n",
        "\n",
        "# print(y.shape)"
      ]
    },
    {
      "cell_type": "code",
      "execution_count": 81,
      "id": "45f84d30",
      "metadata": {
        "colab": {
          "base_uri": "https://localhost:8080/"
        },
        "id": "45f84d30",
        "outputId": "740c97a9-ed7e-46a7-cf8a-561cda309983"
      },
      "outputs": [
        {
          "output_type": "stream",
          "name": "stdout",
          "text": [
            "(5000, 9)\n"
          ]
        }
      ],
      "source": [
        "# Enter your code for Q2.2 here\n",
        "\n",
        "# Define quartiles for each numerical attribute - took from Q1.2\n",
        "quartiles = {\n",
        "    'Age': [35, 45, 55],\n",
        "    'Experience': [10, 20, 30],\n",
        "    'Income': [39, 64, 98],\n",
        "    'CCAvg': [0.7, 1.5, 2.5]\n",
        "}\n",
        "# Encode numerical attributes as categorical attributes based on quartiles\n",
        "for col, q_values in quartiles.items():\n",
        "    df[f'{col}_cat'] = pd.cut(df[col], bins=[-np.inf, *q_values, np.inf], labels=False)\n",
        "\n",
        "# drop the original numerical attributes.\n",
        "X = df.drop(columns=numerical_columns + ['Personal Loan']).values\n",
        "\n",
        "print(X.shape)\n"
      ]
    },
    {
      "cell_type": "markdown",
      "id": "6e8c3cfe",
      "metadata": {
        "id": "6e8c3cfe"
      },
      "source": [
        "### Q3. Train and test a decision tree with 80/20 split (2 point)\n",
        "You will now train a decision tree on the dataset.\n",
        "\n",
        "1. Use the proper commands to split (X,y) into training set (80% of all data), and testing set (20% of all data). Use random_state=0 when creating the splits. (0.5 point)\n",
        "2. Use the proper commands to fit a decision tree model on the training set with 'Gini impurity' as splitting criterion, and 'random_state=123' in `scikit-learn`. (1 point)\n",
        "3. Use the proper commands to report the training and testing accuracy of the decision tree. (0.5 point)"
      ]
    },
    {
      "cell_type": "markdown",
      "id": "66625e74",
      "metadata": {
        "id": "66625e74"
      },
      "source": [
        "*Space reserved for writing explanation for Q3*\n"
      ]
    },
    {
      "cell_type": "code",
      "execution_count": 82,
      "id": "c0e9f657",
      "metadata": {
        "id": "c0e9f657"
      },
      "outputs": [],
      "source": [
        "# Enter your code for Q3.1 here\n",
        "\n",
        "# split training-testing dataset\n",
        "from sklearn.model_selection import train_test_split\n",
        "X_train1, X_test1, y_train1, y_test1 = train_test_split(X, y, test_size = 0.2, random_state = 0)"
      ]
    },
    {
      "cell_type": "code",
      "execution_count": 83,
      "id": "139df008",
      "metadata": {
        "colab": {
          "base_uri": "https://localhost:8080/",
          "height": 75
        },
        "id": "139df008",
        "outputId": "99594a70-a9b4-4297-d6fe-38610a7d5212"
      },
      "outputs": [
        {
          "output_type": "execute_result",
          "data": {
            "text/plain": [
              "DecisionTreeClassifier(random_state=123)"
            ],
            "text/html": [
              "<style>#sk-container-id-5 {color: black;background-color: white;}#sk-container-id-5 pre{padding: 0;}#sk-container-id-5 div.sk-toggleable {background-color: white;}#sk-container-id-5 label.sk-toggleable__label {cursor: pointer;display: block;width: 100%;margin-bottom: 0;padding: 0.3em;box-sizing: border-box;text-align: center;}#sk-container-id-5 label.sk-toggleable__label-arrow:before {content: \"▸\";float: left;margin-right: 0.25em;color: #696969;}#sk-container-id-5 label.sk-toggleable__label-arrow:hover:before {color: black;}#sk-container-id-5 div.sk-estimator:hover label.sk-toggleable__label-arrow:before {color: black;}#sk-container-id-5 div.sk-toggleable__content {max-height: 0;max-width: 0;overflow: hidden;text-align: left;background-color: #f0f8ff;}#sk-container-id-5 div.sk-toggleable__content pre {margin: 0.2em;color: black;border-radius: 0.25em;background-color: #f0f8ff;}#sk-container-id-5 input.sk-toggleable__control:checked~div.sk-toggleable__content {max-height: 200px;max-width: 100%;overflow: auto;}#sk-container-id-5 input.sk-toggleable__control:checked~label.sk-toggleable__label-arrow:before {content: \"▾\";}#sk-container-id-5 div.sk-estimator input.sk-toggleable__control:checked~label.sk-toggleable__label {background-color: #d4ebff;}#sk-container-id-5 div.sk-label input.sk-toggleable__control:checked~label.sk-toggleable__label {background-color: #d4ebff;}#sk-container-id-5 input.sk-hidden--visually {border: 0;clip: rect(1px 1px 1px 1px);clip: rect(1px, 1px, 1px, 1px);height: 1px;margin: -1px;overflow: hidden;padding: 0;position: absolute;width: 1px;}#sk-container-id-5 div.sk-estimator {font-family: monospace;background-color: #f0f8ff;border: 1px dotted black;border-radius: 0.25em;box-sizing: border-box;margin-bottom: 0.5em;}#sk-container-id-5 div.sk-estimator:hover {background-color: #d4ebff;}#sk-container-id-5 div.sk-parallel-item::after {content: \"\";width: 100%;border-bottom: 1px solid gray;flex-grow: 1;}#sk-container-id-5 div.sk-label:hover label.sk-toggleable__label {background-color: #d4ebff;}#sk-container-id-5 div.sk-serial::before {content: \"\";position: absolute;border-left: 1px solid gray;box-sizing: border-box;top: 0;bottom: 0;left: 50%;z-index: 0;}#sk-container-id-5 div.sk-serial {display: flex;flex-direction: column;align-items: center;background-color: white;padding-right: 0.2em;padding-left: 0.2em;position: relative;}#sk-container-id-5 div.sk-item {position: relative;z-index: 1;}#sk-container-id-5 div.sk-parallel {display: flex;align-items: stretch;justify-content: center;background-color: white;position: relative;}#sk-container-id-5 div.sk-item::before, #sk-container-id-5 div.sk-parallel-item::before {content: \"\";position: absolute;border-left: 1px solid gray;box-sizing: border-box;top: 0;bottom: 0;left: 50%;z-index: -1;}#sk-container-id-5 div.sk-parallel-item {display: flex;flex-direction: column;z-index: 1;position: relative;background-color: white;}#sk-container-id-5 div.sk-parallel-item:first-child::after {align-self: flex-end;width: 50%;}#sk-container-id-5 div.sk-parallel-item:last-child::after {align-self: flex-start;width: 50%;}#sk-container-id-5 div.sk-parallel-item:only-child::after {width: 0;}#sk-container-id-5 div.sk-dashed-wrapped {border: 1px dashed gray;margin: 0 0.4em 0.5em 0.4em;box-sizing: border-box;padding-bottom: 0.4em;background-color: white;}#sk-container-id-5 div.sk-label label {font-family: monospace;font-weight: bold;display: inline-block;line-height: 1.2em;}#sk-container-id-5 div.sk-label-container {text-align: center;}#sk-container-id-5 div.sk-container {/* jupyter's `normalize.less` sets `[hidden] { display: none; }` but bootstrap.min.css set `[hidden] { display: none !important; }` so we also need the `!important` here to be able to override the default hidden behavior on the sphinx rendered scikit-learn.org. See: https://github.com/scikit-learn/scikit-learn/issues/21755 */display: inline-block !important;position: relative;}#sk-container-id-5 div.sk-text-repr-fallback {display: none;}</style><div id=\"sk-container-id-5\" class=\"sk-top-container\"><div class=\"sk-text-repr-fallback\"><pre>DecisionTreeClassifier(random_state=123)</pre><b>In a Jupyter environment, please rerun this cell to show the HTML representation or trust the notebook. <br />On GitHub, the HTML representation is unable to render, please try loading this page with nbviewer.org.</b></div><div class=\"sk-container\" hidden><div class=\"sk-item\"><div class=\"sk-estimator sk-toggleable\"><input class=\"sk-toggleable__control sk-hidden--visually\" id=\"sk-estimator-id-5\" type=\"checkbox\" checked><label for=\"sk-estimator-id-5\" class=\"sk-toggleable__label sk-toggleable__label-arrow\">DecisionTreeClassifier</label><div class=\"sk-toggleable__content\"><pre>DecisionTreeClassifier(random_state=123)</pre></div></div></div></div></div>"
            ]
          },
          "metadata": {},
          "execution_count": 83
        }
      ],
      "source": [
        "# Enter your code for Q3.2 here\n",
        "\n",
        "from sklearn.tree import DecisionTreeClassifier\n",
        "# create a decision tree classifier\n",
        "dt0_gini = DecisionTreeClassifier(criterion='gini', random_state=123)\n",
        "\n",
        "# fit the tree to training data\n",
        "dt0_gini.fit(X_train1, y_train1)"
      ]
    },
    {
      "cell_type": "code",
      "execution_count": 84,
      "id": "804ef98d",
      "metadata": {
        "colab": {
          "base_uri": "https://localhost:8080/"
        },
        "id": "804ef98d",
        "outputId": "f8744f1f-64a6-489d-f088-9bb590390a21"
      },
      "outputs": [
        {
          "output_type": "stream",
          "name": "stdout",
          "text": [
            "Testing accuracy of this decision tree: 0.9660\n",
            "Training accuracy of this decision tree: 0.9745\n"
          ]
        }
      ],
      "source": [
        "# Enter your code for Q3.3 here\n",
        "\n",
        "# test the decision tree on testing data\n",
        "y_pred_gini = dt0_gini.predict(X_test1)\n",
        "\n",
        "# report testing accuracy\n",
        "from sklearn.metrics import accuracy_score\n",
        "\n",
        "print('Testing accuracy of this decision tree: {0:0.4f}'. format(accuracy_score(y_test1, y_pred_gini)))\n",
        "print('Training accuracy of this decision tree: {0:0.4f}'. format(dt0_gini.score(X_train1, y_train1)))"
      ]
    },
    {
      "cell_type": "markdown",
      "id": "88a18e4d",
      "metadata": {
        "id": "88a18e4d"
      },
      "source": [
        "### Q4. Train and test a smaller decision tree (1 point)\n",
        "In the previous question, we did not impose any restriction on the size of the decision tree. For interpretability, it is often desirable to have a smaller decision tree. You will next train a smaller decision tree, and observe its performance. The same training and testing sets will be used.\n",
        "\n",
        "1. Use the proper commands to fit a decision tree with a maximum depth of 3 on the training set with 'Gini impurity' as splitting criterion, 'random_state=123'. (0.5 point)\n",
        "2. Use the proper commands to report the training and testing accuracy of the new decision tree. (0.5 point)"
      ]
    },
    {
      "cell_type": "markdown",
      "id": "ebfe9174",
      "metadata": {
        "id": "ebfe9174"
      },
      "source": [
        "*Space reserved for writing explanation for Q4*\n"
      ]
    },
    {
      "cell_type": "code",
      "execution_count": 85,
      "id": "fc5891c2",
      "metadata": {
        "colab": {
          "base_uri": "https://localhost:8080/",
          "height": 75
        },
        "id": "fc5891c2",
        "outputId": "994f777f-2135-4e5f-b5f6-1e750f10a672"
      },
      "outputs": [
        {
          "output_type": "execute_result",
          "data": {
            "text/plain": [
              "DecisionTreeClassifier(max_depth=3, random_state=123)"
            ],
            "text/html": [
              "<style>#sk-container-id-6 {color: black;background-color: white;}#sk-container-id-6 pre{padding: 0;}#sk-container-id-6 div.sk-toggleable {background-color: white;}#sk-container-id-6 label.sk-toggleable__label {cursor: pointer;display: block;width: 100%;margin-bottom: 0;padding: 0.3em;box-sizing: border-box;text-align: center;}#sk-container-id-6 label.sk-toggleable__label-arrow:before {content: \"▸\";float: left;margin-right: 0.25em;color: #696969;}#sk-container-id-6 label.sk-toggleable__label-arrow:hover:before {color: black;}#sk-container-id-6 div.sk-estimator:hover label.sk-toggleable__label-arrow:before {color: black;}#sk-container-id-6 div.sk-toggleable__content {max-height: 0;max-width: 0;overflow: hidden;text-align: left;background-color: #f0f8ff;}#sk-container-id-6 div.sk-toggleable__content pre {margin: 0.2em;color: black;border-radius: 0.25em;background-color: #f0f8ff;}#sk-container-id-6 input.sk-toggleable__control:checked~div.sk-toggleable__content {max-height: 200px;max-width: 100%;overflow: auto;}#sk-container-id-6 input.sk-toggleable__control:checked~label.sk-toggleable__label-arrow:before {content: \"▾\";}#sk-container-id-6 div.sk-estimator input.sk-toggleable__control:checked~label.sk-toggleable__label {background-color: #d4ebff;}#sk-container-id-6 div.sk-label input.sk-toggleable__control:checked~label.sk-toggleable__label {background-color: #d4ebff;}#sk-container-id-6 input.sk-hidden--visually {border: 0;clip: rect(1px 1px 1px 1px);clip: rect(1px, 1px, 1px, 1px);height: 1px;margin: -1px;overflow: hidden;padding: 0;position: absolute;width: 1px;}#sk-container-id-6 div.sk-estimator {font-family: monospace;background-color: #f0f8ff;border: 1px dotted black;border-radius: 0.25em;box-sizing: border-box;margin-bottom: 0.5em;}#sk-container-id-6 div.sk-estimator:hover {background-color: #d4ebff;}#sk-container-id-6 div.sk-parallel-item::after {content: \"\";width: 100%;border-bottom: 1px solid gray;flex-grow: 1;}#sk-container-id-6 div.sk-label:hover label.sk-toggleable__label {background-color: #d4ebff;}#sk-container-id-6 div.sk-serial::before {content: \"\";position: absolute;border-left: 1px solid gray;box-sizing: border-box;top: 0;bottom: 0;left: 50%;z-index: 0;}#sk-container-id-6 div.sk-serial {display: flex;flex-direction: column;align-items: center;background-color: white;padding-right: 0.2em;padding-left: 0.2em;position: relative;}#sk-container-id-6 div.sk-item {position: relative;z-index: 1;}#sk-container-id-6 div.sk-parallel {display: flex;align-items: stretch;justify-content: center;background-color: white;position: relative;}#sk-container-id-6 div.sk-item::before, #sk-container-id-6 div.sk-parallel-item::before {content: \"\";position: absolute;border-left: 1px solid gray;box-sizing: border-box;top: 0;bottom: 0;left: 50%;z-index: -1;}#sk-container-id-6 div.sk-parallel-item {display: flex;flex-direction: column;z-index: 1;position: relative;background-color: white;}#sk-container-id-6 div.sk-parallel-item:first-child::after {align-self: flex-end;width: 50%;}#sk-container-id-6 div.sk-parallel-item:last-child::after {align-self: flex-start;width: 50%;}#sk-container-id-6 div.sk-parallel-item:only-child::after {width: 0;}#sk-container-id-6 div.sk-dashed-wrapped {border: 1px dashed gray;margin: 0 0.4em 0.5em 0.4em;box-sizing: border-box;padding-bottom: 0.4em;background-color: white;}#sk-container-id-6 div.sk-label label {font-family: monospace;font-weight: bold;display: inline-block;line-height: 1.2em;}#sk-container-id-6 div.sk-label-container {text-align: center;}#sk-container-id-6 div.sk-container {/* jupyter's `normalize.less` sets `[hidden] { display: none; }` but bootstrap.min.css set `[hidden] { display: none !important; }` so we also need the `!important` here to be able to override the default hidden behavior on the sphinx rendered scikit-learn.org. See: https://github.com/scikit-learn/scikit-learn/issues/21755 */display: inline-block !important;position: relative;}#sk-container-id-6 div.sk-text-repr-fallback {display: none;}</style><div id=\"sk-container-id-6\" class=\"sk-top-container\"><div class=\"sk-text-repr-fallback\"><pre>DecisionTreeClassifier(max_depth=3, random_state=123)</pre><b>In a Jupyter environment, please rerun this cell to show the HTML representation or trust the notebook. <br />On GitHub, the HTML representation is unable to render, please try loading this page with nbviewer.org.</b></div><div class=\"sk-container\" hidden><div class=\"sk-item\"><div class=\"sk-estimator sk-toggleable\"><input class=\"sk-toggleable__control sk-hidden--visually\" id=\"sk-estimator-id-6\" type=\"checkbox\" checked><label for=\"sk-estimator-id-6\" class=\"sk-toggleable__label sk-toggleable__label-arrow\">DecisionTreeClassifier</label><div class=\"sk-toggleable__content\"><pre>DecisionTreeClassifier(max_depth=3, random_state=123)</pre></div></div></div></div></div>"
            ]
          },
          "metadata": {},
          "execution_count": 85
        }
      ],
      "source": [
        "# Enter your code for Q4.1 here\n",
        "dt1_gini = DecisionTreeClassifier(criterion='gini',max_depth=3, random_state=123,)\n",
        "# fit the model\n",
        "dt1_gini.fit(X_train1, y_train1)"
      ]
    },
    {
      "cell_type": "code",
      "execution_count": 86,
      "id": "fa492d84",
      "metadata": {
        "colab": {
          "base_uri": "https://localhost:8080/"
        },
        "id": "fa492d84",
        "outputId": "b1d7fda7-b94f-449c-8408-00202ef23a9a"
      },
      "outputs": [
        {
          "output_type": "stream",
          "name": "stdout",
          "text": [
            "Testing accuracy of this decision tree: 0.9480\n",
            "Training accuracy of this decision tree: 0.9547\n"
          ]
        }
      ],
      "source": [
        "# Enter your code for Q4.2 here\n",
        "\n",
        "# test the decision tree on testing data\n",
        "y_pred_gini1 = dt1_gini.predict(X_test1)\n",
        "\n",
        "# report testing accuracy\n",
        "from sklearn.metrics import accuracy_score\n",
        "\n",
        "print('Testing accuracy of this decision tree: {0:0.4f}'. format(accuracy_score(y_test1, y_pred_gini1)))\n",
        "print('Training accuracy of this decision tree: {0:0.4f}'. format(dt1_gini.score(X_train1, y_train1)))"
      ]
    },
    {
      "cell_type": "markdown",
      "id": "f0f61070",
      "metadata": {
        "id": "f0f61070"
      },
      "source": [
        "### Q5. Use cross validation to tune a smaller decision tree (2 point)\n",
        "As we expect, restricting the size of the decision tree leads to a drop in accuracy. You will next use 5-fold cross validation on the training dataset to find the criterion and max_depth setup, which leads to the best validation accuracy, from the following range:\n",
        "- criterion is either Gini impurity or Information gain\n",
        "- max_depth is 2, 3 or 4\n",
        "\n",
        "1. Use GridSearchCV function to perform the cross validation and report the best parameter setup. (1 point)\n",
        "2. Train a new decision tree with the found best parameters on the same training data, then report training and testing accuracy of the new decision tree. (1 point)"
      ]
    },
    {
      "cell_type": "markdown",
      "id": "588e3c2a",
      "metadata": {
        "id": "588e3c2a"
      },
      "source": [
        "*Space reserved for writing explanation for Q5*\n"
      ]
    },
    {
      "cell_type": "code",
      "execution_count": 87,
      "id": "1eaae835",
      "metadata": {
        "id": "1eaae835"
      },
      "outputs": [],
      "source": [
        "# Enter your code for Q5.1 here\n",
        "from sklearn.model_selection import GridSearchCV\n",
        "\n",
        "# Define the hyperparameters to tune using GridSearchCV\n",
        "param_grid = {\n",
        "    'criterion': ['gini', 'entropy'],\n",
        "    'max_depth': [2, 3, 4]\n",
        "}\n",
        "\n",
        "# Create the DecisionTreeClassifier model\n",
        "dt_classifier = DecisionTreeClassifier(random_state=123)\n",
        "\n",
        "# Create the GridSearchCV object with 5-fold cross-validation\n",
        "grid_search = GridSearchCV(dt_classifier, param_grid, cv=5, scoring='accuracy')"
      ]
    },
    {
      "cell_type": "code",
      "execution_count": 88,
      "id": "017bbab2",
      "metadata": {
        "colab": {
          "base_uri": "https://localhost:8080/"
        },
        "id": "017bbab2",
        "outputId": "b4ec74b1-9708-4b4e-9523-1bf4e16c8cce"
      },
      "outputs": [
        {
          "output_type": "stream",
          "name": "stdout",
          "text": [
            "Best Hyperparameters: {'criterion': 'entropy', 'max_depth': 4}\n",
            "Training Accuracy of new Decision Tree: 0.96075\n",
            "Testing Accuracy of new Decision tree: 0.954\n"
          ]
        }
      ],
      "source": [
        "# Enter your code for Q5.2 here\n",
        "\n",
        "# Perform the grid search on the training data\n",
        "grid_search.fit(X_train1, y_train1)\n",
        "\n",
        "# Get the best hyperparameters and the best estimator\n",
        "best_params = grid_search.best_params_\n",
        "\n",
        "# Print the best hyperparameters\n",
        "print(\"Best Hyperparameters:\", best_params)\n",
        "\n",
        "dt_classifier = DecisionTreeClassifier(criterion='entropy', max_depth=4, random_state=123)\n",
        "\n",
        "# fit the train data with found best parameters\n",
        "dt_classifier.fit(X_train1, y_train1)\n",
        "\n",
        "# Evaluate the new DecisionTreeClassifier on the training data\n",
        "y_train_pred_new = dt_classifier.predict(X_train1)\n",
        "train_accuracy_new = accuracy_score(y_train1, y_train_pred_new)\n",
        "\n",
        "# Evaluate the new DecisionTreeClassifier on the testing data\n",
        "y_test_pred_new = dt_classifier.predict(X_test1)\n",
        "test_accuracy_new = accuracy_score(y_test1, y_test_pred_new)\n",
        "\n",
        "# Print the training and testing accuracies\n",
        "print(\"Training Accuracy of new Decision Tree:\", train_accuracy_new)\n",
        "print(\"Testing Accuracy of new Decision tree:\", test_accuracy_new)"
      ]
    },
    {
      "cell_type": "markdown",
      "id": "31e78144",
      "metadata": {
        "id": "31e78144"
      },
      "source": [
        "### Q6. Visualize a decision tree, and make observations about decision rules (2 point)\n",
        "You will now visualize the decision tree created in Q5. You can use either the `plot_tree` function or the `export_graphviz` function. For both functions, to increase readability, use the following code to set feature and class label names in the generated figure:\n",
        "- `feature_names=X.columns, class_names=['Not Accept','Accept']`\n",
        "\n",
        "1. Visualize the decision tree trained in Q5 (1 point)\n",
        "2. Observe one decision rule from the generated tree (you can choose any rule based on your own tree), and report the support and confidence of the rule. (1 point)"
      ]
    },
    {
      "cell_type": "markdown",
      "id": "d7acea13",
      "metadata": {
        "id": "d7acea13"
      },
      "source": [
        "*Space reserved for writing explanation for Q6.1*\n"
      ]
    },
    {
      "cell_type": "code",
      "execution_count": 91,
      "id": "28309761",
      "metadata": {
        "colab": {
          "base_uri": "https://localhost:8080/",
          "height": 777
        },
        "id": "28309761",
        "outputId": "e5a3643f-fdb0-4c47-d7b0-41c833936f81"
      },
      "outputs": [
        {
          "output_type": "execute_result",
          "data": {
            "image/svg+xml": "<?xml version=\"1.0\" encoding=\"UTF-8\" standalone=\"no\"?>\n<!DOCTYPE svg PUBLIC \"-//W3C//DTD SVG 1.1//EN\"\n \"http://www.w3.org/Graphics/SVG/1.1/DTD/svg11.dtd\">\n<!-- Generated by graphviz version 2.43.0 (0)\n -->\n<!-- Title: Tree Pages: 1 -->\n<svg width=\"1660pt\" height=\"552pt\"\n viewBox=\"0.00 0.00 1659.50 552.00\" xmlns=\"http://www.w3.org/2000/svg\" xmlns:xlink=\"http://www.w3.org/1999/xlink\">\n<g id=\"graph0\" class=\"graph\" transform=\"scale(1 1) rotate(0) translate(4 548)\">\n<title>Tree</title>\n<polygon fill=\"white\" stroke=\"transparent\" points=\"-4,4 -4,-548 1655.5,-548 1655.5,4 -4,4\"/>\n<!-- 0 -->\n<g id=\"node1\" class=\"node\">\n<title>0</title>\n<path fill=\"#e88f4e\" stroke=\"black\" d=\"M617,-544C617,-544 509,-544 509,-544 503,-544 497,-538 497,-532 497,-532 497,-473 497,-473 497,-467 503,-461 509,-461 509,-461 617,-461 617,-461 623,-461 629,-467 629,-473 629,-473 629,-532 629,-532 629,-538 623,-544 617,-544\"/>\n<text text-anchor=\"start\" x=\"526\" y=\"-528.8\" font-family=\"Helvetica,sans-Serif\" font-size=\"14.00\">Online ≤ 2.5</text>\n<text text-anchor=\"start\" x=\"515.5\" y=\"-513.8\" font-family=\"Helvetica,sans-Serif\" font-size=\"14.00\">entropy = 0.461</text>\n<text text-anchor=\"start\" x=\"514.5\" y=\"-498.8\" font-family=\"Helvetica,sans-Serif\" font-size=\"14.00\">samples = 4000</text>\n<text text-anchor=\"start\" x=\"505\" y=\"-483.8\" font-family=\"Helvetica,sans-Serif\" font-size=\"14.00\">value = [3610, 390]</text>\n<text text-anchor=\"start\" x=\"507\" y=\"-468.8\" font-family=\"Helvetica,sans-Serif\" font-size=\"14.00\">class = Not Accept</text>\n</g>\n<!-- 1 -->\n<g id=\"node2\" class=\"node\">\n<title>1</title>\n<path fill=\"#e5823b\" stroke=\"black\" d=\"M477,-425C477,-425 373,-425 373,-425 367,-425 361,-419 361,-413 361,-413 361,-354 361,-354 361,-348 367,-342 373,-342 373,-342 477,-342 477,-342 483,-342 489,-348 489,-354 489,-354 489,-413 489,-413 489,-419 483,-425 477,-425\"/>\n<text text-anchor=\"start\" x=\"375\" y=\"-409.8\" font-family=\"Helvetica,sans-Serif\" font-size=\"14.00\">CreditCard ≤ 2.5</text>\n<text text-anchor=\"start\" x=\"377.5\" y=\"-394.8\" font-family=\"Helvetica,sans-Serif\" font-size=\"14.00\">entropy = 0.079</text>\n<text text-anchor=\"start\" x=\"376.5\" y=\"-379.8\" font-family=\"Helvetica,sans-Serif\" font-size=\"14.00\">samples = 2987</text>\n<text text-anchor=\"start\" x=\"370.5\" y=\"-364.8\" font-family=\"Helvetica,sans-Serif\" font-size=\"14.00\">value = [2958, 29]</text>\n<text text-anchor=\"start\" x=\"369\" y=\"-349.8\" font-family=\"Helvetica,sans-Serif\" font-size=\"14.00\">class = Not Accept</text>\n</g>\n<!-- 0&#45;&gt;1 -->\n<g id=\"edge1\" class=\"edge\">\n<title>0&#45;&gt;1</title>\n<path fill=\"none\" stroke=\"black\" d=\"M515.12,-460.91C503.99,-451.47 492.05,-441.34 480.61,-431.65\"/>\n<polygon fill=\"black\" stroke=\"black\" points=\"482.68,-428.82 472.79,-425.02 478.16,-434.16 482.68,-428.82\"/>\n<text text-anchor=\"middle\" x=\"474.85\" y=\"-446.24\" font-family=\"Helvetica,sans-Serif\" font-size=\"14.00\">True</text>\n</g>\n<!-- 10 -->\n<g id=\"node11\" class=\"node\">\n<title>10</title>\n<path fill=\"#f3c7a7\" stroke=\"black\" d=\"M899,-425C899,-425 795,-425 795,-425 789,-425 783,-419 783,-413 783,-413 783,-354 783,-354 783,-348 789,-342 795,-342 795,-342 899,-342 899,-342 905,-342 911,-348 911,-354 911,-354 911,-413 911,-413 911,-419 905,-425 899,-425\"/>\n<text text-anchor=\"start\" x=\"818\" y=\"-409.8\" font-family=\"Helvetica,sans-Serif\" font-size=\"14.00\">Age ≤ 1.5</text>\n<text text-anchor=\"start\" x=\"803\" y=\"-394.8\" font-family=\"Helvetica,sans-Serif\" font-size=\"14.00\">entropy = 0.94</text>\n<text text-anchor=\"start\" x=\"798.5\" y=\"-379.8\" font-family=\"Helvetica,sans-Serif\" font-size=\"14.00\">samples = 1013</text>\n<text text-anchor=\"start\" x=\"792.5\" y=\"-364.8\" font-family=\"Helvetica,sans-Serif\" font-size=\"14.00\">value = [652, 361]</text>\n<text text-anchor=\"start\" x=\"791\" y=\"-349.8\" font-family=\"Helvetica,sans-Serif\" font-size=\"14.00\">class = Not Accept</text>\n</g>\n<!-- 0&#45;&gt;10 -->\n<g id=\"edge10\" class=\"edge\">\n<title>0&#45;&gt;10</title>\n<path fill=\"none\" stroke=\"black\" d=\"M629.23,-474.22C672.38,-456.44 728.73,-433.22 773.3,-414.86\"/>\n<polygon fill=\"black\" stroke=\"black\" points=\"774.71,-418.07 782.63,-411.02 772.05,-411.59 774.71,-418.07\"/>\n<text text-anchor=\"middle\" x=\"773.02\" y=\"-430.4\" font-family=\"Helvetica,sans-Serif\" font-size=\"14.00\">False</text>\n</g>\n<!-- 2 -->\n<g id=\"node3\" class=\"node\">\n<title>2</title>\n<path fill=\"#e58139\" stroke=\"black\" d=\"M331,-298.5C331,-298.5 227,-298.5 227,-298.5 221,-298.5 215,-292.5 215,-286.5 215,-286.5 215,-242.5 215,-242.5 215,-236.5 221,-230.5 227,-230.5 227,-230.5 331,-230.5 331,-230.5 337,-230.5 343,-236.5 343,-242.5 343,-242.5 343,-286.5 343,-286.5 343,-292.5 337,-298.5 331,-298.5\"/>\n<text text-anchor=\"start\" x=\"239\" y=\"-283.3\" font-family=\"Helvetica,sans-Serif\" font-size=\"14.00\">entropy = 0.0</text>\n<text text-anchor=\"start\" x=\"230.5\" y=\"-268.3\" font-family=\"Helvetica,sans-Serif\" font-size=\"14.00\">samples = 2605</text>\n<text text-anchor=\"start\" x=\"228.5\" y=\"-253.3\" font-family=\"Helvetica,sans-Serif\" font-size=\"14.00\">value = [2605, 0]</text>\n<text text-anchor=\"start\" x=\"223\" y=\"-238.3\" font-family=\"Helvetica,sans-Serif\" font-size=\"14.00\">class = Not Accept</text>\n</g>\n<!-- 1&#45;&gt;2 -->\n<g id=\"edge2\" class=\"edge\">\n<title>1&#45;&gt;2</title>\n<path fill=\"none\" stroke=\"black\" d=\"M374.35,-341.91C359.47,-329.99 343.23,-316.98 328.44,-305.12\"/>\n<polygon fill=\"black\" stroke=\"black\" points=\"330.38,-302.19 320.39,-298.67 326,-307.65 330.38,-302.19\"/>\n</g>\n<!-- 3 -->\n<g id=\"node4\" class=\"node\">\n<title>3</title>\n<path fill=\"#e78b49\" stroke=\"black\" d=\"M477,-306C477,-306 373,-306 373,-306 367,-306 361,-300 361,-294 361,-294 361,-235 361,-235 361,-229 367,-223 373,-223 373,-223 477,-223 477,-223 483,-223 489,-229 489,-235 489,-235 489,-294 489,-294 489,-300 483,-306 477,-306\"/>\n<text text-anchor=\"start\" x=\"385.5\" y=\"-290.8\" font-family=\"Helvetica,sans-Serif\" font-size=\"14.00\">Income ≤ 0.5</text>\n<text text-anchor=\"start\" x=\"377.5\" y=\"-275.8\" font-family=\"Helvetica,sans-Serif\" font-size=\"14.00\">entropy = 0.388</text>\n<text text-anchor=\"start\" x=\"380\" y=\"-260.8\" font-family=\"Helvetica,sans-Serif\" font-size=\"14.00\">samples = 382</text>\n<text text-anchor=\"start\" x=\"374.5\" y=\"-245.8\" font-family=\"Helvetica,sans-Serif\" font-size=\"14.00\">value = [353, 29]</text>\n<text text-anchor=\"start\" x=\"369\" y=\"-230.8\" font-family=\"Helvetica,sans-Serif\" font-size=\"14.00\">class = Not Accept</text>\n</g>\n<!-- 1&#45;&gt;3 -->\n<g id=\"edge3\" class=\"edge\">\n<title>1&#45;&gt;3</title>\n<path fill=\"none\" stroke=\"black\" d=\"M425,-341.91C425,-333.65 425,-324.86 425,-316.3\"/>\n<polygon fill=\"black\" stroke=\"black\" points=\"428.5,-316.02 425,-306.02 421.5,-316.02 428.5,-316.02\"/>\n</g>\n<!-- 4 -->\n<g id=\"node5\" class=\"node\">\n<title>4</title>\n<path fill=\"#e68844\" stroke=\"black\" d=\"M262,-187C262,-187 158,-187 158,-187 152,-187 146,-181 146,-175 146,-175 146,-116 146,-116 146,-110 152,-104 158,-104 158,-104 262,-104 262,-104 268,-104 274,-110 274,-116 274,-116 274,-175 274,-175 274,-181 268,-187 262,-187\"/>\n<text text-anchor=\"start\" x=\"181\" y=\"-171.8\" font-family=\"Helvetica,sans-Serif\" font-size=\"14.00\">Age ≤ 1.5</text>\n<text text-anchor=\"start\" x=\"162.5\" y=\"-156.8\" font-family=\"Helvetica,sans-Serif\" font-size=\"14.00\">entropy = 0.296</text>\n<text text-anchor=\"start\" x=\"165\" y=\"-141.8\" font-family=\"Helvetica,sans-Serif\" font-size=\"14.00\">samples = 363</text>\n<text text-anchor=\"start\" x=\"159.5\" y=\"-126.8\" font-family=\"Helvetica,sans-Serif\" font-size=\"14.00\">value = [344, 19]</text>\n<text text-anchor=\"start\" x=\"154\" y=\"-111.8\" font-family=\"Helvetica,sans-Serif\" font-size=\"14.00\">class = Not Accept</text>\n</g>\n<!-- 3&#45;&gt;4 -->\n<g id=\"edge4\" class=\"edge\">\n<title>3&#45;&gt;4</title>\n<path fill=\"none\" stroke=\"black\" d=\"M360.93,-227.9C357.91,-226.24 354.92,-224.6 352,-223 329.65,-210.78 305.25,-197.59 283.09,-185.65\"/>\n<polygon fill=\"black\" stroke=\"black\" points=\"284.53,-182.45 274.06,-180.8 281.21,-188.62 284.53,-182.45\"/>\n</g>\n<!-- 7 -->\n<g id=\"node8\" class=\"node\">\n<title>7</title>\n<path fill=\"#ebf5fc\" stroke=\"black\" d=\"M468.5,-187C468.5,-187 381.5,-187 381.5,-187 375.5,-187 369.5,-181 369.5,-175 369.5,-175 369.5,-116 369.5,-116 369.5,-110 375.5,-104 381.5,-104 381.5,-104 468.5,-104 468.5,-104 474.5,-104 480.5,-110 480.5,-116 480.5,-116 480.5,-175 480.5,-175 480.5,-181 474.5,-187 468.5,-187\"/>\n<text text-anchor=\"start\" x=\"388\" y=\"-171.8\" font-family=\"Helvetica,sans-Serif\" font-size=\"14.00\">Online ≤ 1.5</text>\n<text text-anchor=\"start\" x=\"377.5\" y=\"-156.8\" font-family=\"Helvetica,sans-Serif\" font-size=\"14.00\">entropy = 0.998</text>\n<text text-anchor=\"start\" x=\"384\" y=\"-141.8\" font-family=\"Helvetica,sans-Serif\" font-size=\"14.00\">samples = 19</text>\n<text text-anchor=\"start\" x=\"382\" y=\"-126.8\" font-family=\"Helvetica,sans-Serif\" font-size=\"14.00\">value = [9, 10]</text>\n<text text-anchor=\"start\" x=\"381\" y=\"-111.8\" font-family=\"Helvetica,sans-Serif\" font-size=\"14.00\">class = Accept</text>\n</g>\n<!-- 3&#45;&gt;7 -->\n<g id=\"edge7\" class=\"edge\">\n<title>3&#45;&gt;7</title>\n<path fill=\"none\" stroke=\"black\" d=\"M425,-222.91C425,-214.65 425,-205.86 425,-197.3\"/>\n<polygon fill=\"black\" stroke=\"black\" points=\"428.5,-197.02 425,-187.02 421.5,-197.02 428.5,-197.02\"/>\n</g>\n<!-- 5 -->\n<g id=\"node6\" class=\"node\">\n<title>5</title>\n<path fill=\"#e6843e\" stroke=\"black\" d=\"M116,-68C116,-68 12,-68 12,-68 6,-68 0,-62 0,-56 0,-56 0,-12 0,-12 0,-6 6,0 12,0 12,0 116,0 116,0 122,0 128,-6 128,-12 128,-12 128,-56 128,-56 128,-62 122,-68 116,-68\"/>\n<text text-anchor=\"start\" x=\"16.5\" y=\"-52.8\" font-family=\"Helvetica,sans-Serif\" font-size=\"14.00\">entropy = 0.163</text>\n<text text-anchor=\"start\" x=\"19\" y=\"-37.8\" font-family=\"Helvetica,sans-Serif\" font-size=\"14.00\">samples = 167</text>\n<text text-anchor=\"start\" x=\"17\" y=\"-22.8\" font-family=\"Helvetica,sans-Serif\" font-size=\"14.00\">value = [163, 4]</text>\n<text text-anchor=\"start\" x=\"8\" y=\"-7.8\" font-family=\"Helvetica,sans-Serif\" font-size=\"14.00\">class = Not Accept</text>\n</g>\n<!-- 4&#45;&gt;5 -->\n<g id=\"edge5\" class=\"edge\">\n<title>4&#45;&gt;5</title>\n<path fill=\"none\" stroke=\"black\" d=\"M155.63,-103.73C142.87,-94.15 129.28,-83.96 116.59,-74.44\"/>\n<polygon fill=\"black\" stroke=\"black\" points=\"118.5,-71.5 108.4,-68.3 114.3,-77.1 118.5,-71.5\"/>\n</g>\n<!-- 6 -->\n<g id=\"node7\" class=\"node\">\n<title>6</title>\n<path fill=\"#e78b49\" stroke=\"black\" d=\"M262,-68C262,-68 158,-68 158,-68 152,-68 146,-62 146,-56 146,-56 146,-12 146,-12 146,-6 152,0 158,0 158,0 262,0 262,0 268,0 274,-6 274,-12 274,-12 274,-56 274,-56 274,-62 268,-68 262,-68\"/>\n<text text-anchor=\"start\" x=\"166\" y=\"-52.8\" font-family=\"Helvetica,sans-Serif\" font-size=\"14.00\">entropy = 0.39</text>\n<text text-anchor=\"start\" x=\"165\" y=\"-37.8\" font-family=\"Helvetica,sans-Serif\" font-size=\"14.00\">samples = 196</text>\n<text text-anchor=\"start\" x=\"159.5\" y=\"-22.8\" font-family=\"Helvetica,sans-Serif\" font-size=\"14.00\">value = [181, 15]</text>\n<text text-anchor=\"start\" x=\"154\" y=\"-7.8\" font-family=\"Helvetica,sans-Serif\" font-size=\"14.00\">class = Not Accept</text>\n</g>\n<!-- 4&#45;&gt;6 -->\n<g id=\"edge6\" class=\"edge\">\n<title>4&#45;&gt;6</title>\n<path fill=\"none\" stroke=\"black\" d=\"M210,-103.73C210,-95.52 210,-86.86 210,-78.56\"/>\n<polygon fill=\"black\" stroke=\"black\" points=\"213.5,-78.3 210,-68.3 206.5,-78.3 213.5,-78.3\"/>\n</g>\n<!-- 8 -->\n<g id=\"node9\" class=\"node\">\n<title>8</title>\n<path fill=\"#e58139\" stroke=\"black\" d=\"M408,-68C408,-68 304,-68 304,-68 298,-68 292,-62 292,-56 292,-56 292,-12 292,-12 292,-6 298,0 304,0 304,0 408,0 408,0 414,0 420,-6 420,-12 420,-12 420,-56 420,-56 420,-62 414,-68 408,-68\"/>\n<text text-anchor=\"start\" x=\"316\" y=\"-52.8\" font-family=\"Helvetica,sans-Serif\" font-size=\"14.00\">entropy = 0.0</text>\n<text text-anchor=\"start\" x=\"318.5\" y=\"-37.8\" font-family=\"Helvetica,sans-Serif\" font-size=\"14.00\">samples = 2</text>\n<text text-anchor=\"start\" x=\"316.5\" y=\"-22.8\" font-family=\"Helvetica,sans-Serif\" font-size=\"14.00\">value = [2, 0]</text>\n<text text-anchor=\"start\" x=\"300\" y=\"-7.8\" font-family=\"Helvetica,sans-Serif\" font-size=\"14.00\">class = Not Accept</text>\n</g>\n<!-- 7&#45;&gt;8 -->\n<g id=\"edge8\" class=\"edge\">\n<title>7&#45;&gt;8</title>\n<path fill=\"none\" stroke=\"black\" d=\"M399.31,-103.73C393.79,-94.97 387.95,-85.7 382.41,-76.91\"/>\n<polygon fill=\"black\" stroke=\"black\" points=\"385.28,-74.89 376.98,-68.3 379.35,-78.63 385.28,-74.89\"/>\n</g>\n<!-- 9 -->\n<g id=\"node10\" class=\"node\">\n<title>9</title>\n<path fill=\"#c4e2f7\" stroke=\"black\" d=\"M537.5,-68C537.5,-68 450.5,-68 450.5,-68 444.5,-68 438.5,-62 438.5,-56 438.5,-56 438.5,-12 438.5,-12 438.5,-6 444.5,0 450.5,0 450.5,0 537.5,0 537.5,0 543.5,0 549.5,-6 549.5,-12 549.5,-12 549.5,-56 549.5,-56 549.5,-62 543.5,-68 537.5,-68\"/>\n<text text-anchor=\"start\" x=\"446.5\" y=\"-52.8\" font-family=\"Helvetica,sans-Serif\" font-size=\"14.00\">entropy = 0.977</text>\n<text text-anchor=\"start\" x=\"453\" y=\"-37.8\" font-family=\"Helvetica,sans-Serif\" font-size=\"14.00\">samples = 17</text>\n<text text-anchor=\"start\" x=\"451\" y=\"-22.8\" font-family=\"Helvetica,sans-Serif\" font-size=\"14.00\">value = [7, 10]</text>\n<text text-anchor=\"start\" x=\"450\" y=\"-7.8\" font-family=\"Helvetica,sans-Serif\" font-size=\"14.00\">class = Accept</text>\n</g>\n<!-- 7&#45;&gt;9 -->\n<g id=\"edge9\" class=\"edge\">\n<title>7&#45;&gt;9</title>\n<path fill=\"none\" stroke=\"black\" d=\"M450.69,-103.73C456.21,-94.97 462.05,-85.7 467.59,-76.91\"/>\n<polygon fill=\"black\" stroke=\"black\" points=\"470.65,-78.63 473.02,-68.3 464.72,-74.89 470.65,-78.63\"/>\n</g>\n<!-- 11 -->\n<g id=\"node12\" class=\"node\">\n<title>11</title>\n<path fill=\"#e88f50\" stroke=\"black\" d=\"M899,-306C899,-306 795,-306 795,-306 789,-306 783,-300 783,-294 783,-294 783,-235 783,-235 783,-229 789,-223 795,-223 795,-223 899,-223 899,-223 905,-223 911,-229 911,-235 911,-235 911,-294 911,-294 911,-300 905,-306 899,-306\"/>\n<text text-anchor=\"start\" x=\"807.5\" y=\"-290.8\" font-family=\"Helvetica,sans-Serif\" font-size=\"14.00\">Income ≤ 0.5</text>\n<text text-anchor=\"start\" x=\"799.5\" y=\"-275.8\" font-family=\"Helvetica,sans-Serif\" font-size=\"14.00\">entropy = 0.478</text>\n<text text-anchor=\"start\" x=\"802\" y=\"-260.8\" font-family=\"Helvetica,sans-Serif\" font-size=\"14.00\">samples = 612</text>\n<text text-anchor=\"start\" x=\"796.5\" y=\"-245.8\" font-family=\"Helvetica,sans-Serif\" font-size=\"14.00\">value = [549, 63]</text>\n<text text-anchor=\"start\" x=\"791\" y=\"-230.8\" font-family=\"Helvetica,sans-Serif\" font-size=\"14.00\">class = Not Accept</text>\n</g>\n<!-- 10&#45;&gt;11 -->\n<g id=\"edge11\" class=\"edge\">\n<title>10&#45;&gt;11</title>\n<path fill=\"none\" stroke=\"black\" d=\"M847,-341.91C847,-333.65 847,-324.86 847,-316.3\"/>\n<polygon fill=\"black\" stroke=\"black\" points=\"850.5,-316.02 847,-306.02 843.5,-316.02 850.5,-316.02\"/>\n</g>\n<!-- 18 -->\n<g id=\"node19\" class=\"node\">\n<title>18</title>\n<path fill=\"#7dbfee\" stroke=\"black\" d=\"M1312.5,-306C1312.5,-306 1211.5,-306 1211.5,-306 1205.5,-306 1199.5,-300 1199.5,-294 1199.5,-294 1199.5,-235 1199.5,-235 1199.5,-229 1205.5,-223 1211.5,-223 1211.5,-223 1312.5,-223 1312.5,-223 1318.5,-223 1324.5,-229 1324.5,-235 1324.5,-235 1324.5,-294 1324.5,-294 1324.5,-300 1318.5,-306 1312.5,-306\"/>\n<text text-anchor=\"start\" x=\"1212\" y=\"-290.8\" font-family=\"Helvetica,sans-Serif\" font-size=\"14.00\">CreditCard ≤ 2.5</text>\n<text text-anchor=\"start\" x=\"1214.5\" y=\"-275.8\" font-family=\"Helvetica,sans-Serif\" font-size=\"14.00\">entropy = 0.822</text>\n<text text-anchor=\"start\" x=\"1217\" y=\"-260.8\" font-family=\"Helvetica,sans-Serif\" font-size=\"14.00\">samples = 401</text>\n<text text-anchor=\"start\" x=\"1207.5\" y=\"-245.8\" font-family=\"Helvetica,sans-Serif\" font-size=\"14.00\">value = [103, 298]</text>\n<text text-anchor=\"start\" x=\"1218\" y=\"-230.8\" font-family=\"Helvetica,sans-Serif\" font-size=\"14.00\">class = Accept</text>\n</g>\n<!-- 10&#45;&gt;18 -->\n<g id=\"edge18\" class=\"edge\">\n<title>10&#45;&gt;18</title>\n<path fill=\"none\" stroke=\"black\" d=\"M911.39,-364.35C986.71,-343.11 1111.09,-308.05 1189.67,-285.89\"/>\n<polygon fill=\"black\" stroke=\"black\" points=\"1190.82,-289.2 1199.5,-283.12 1188.92,-282.47 1190.82,-289.2\"/>\n</g>\n<!-- 12 -->\n<g id=\"node13\" class=\"node\">\n<title>12</title>\n<path fill=\"#e78b49\" stroke=\"black\" d=\"M826,-187C826,-187 722,-187 722,-187 716,-187 710,-181 710,-175 710,-175 710,-116 710,-116 710,-110 716,-104 722,-104 722,-104 826,-104 826,-104 832,-104 838,-110 838,-116 838,-116 838,-175 838,-175 838,-181 832,-187 826,-187\"/>\n<text text-anchor=\"start\" x=\"735.5\" y=\"-171.8\" font-family=\"Helvetica,sans-Serif\" font-size=\"14.00\">CCAvg ≤ 0.5</text>\n<text text-anchor=\"start\" x=\"730\" y=\"-156.8\" font-family=\"Helvetica,sans-Serif\" font-size=\"14.00\">entropy = 0.38</text>\n<text text-anchor=\"start\" x=\"729\" y=\"-141.8\" font-family=\"Helvetica,sans-Serif\" font-size=\"14.00\">samples = 570</text>\n<text text-anchor=\"start\" x=\"723.5\" y=\"-126.8\" font-family=\"Helvetica,sans-Serif\" font-size=\"14.00\">value = [528, 42]</text>\n<text text-anchor=\"start\" x=\"718\" y=\"-111.8\" font-family=\"Helvetica,sans-Serif\" font-size=\"14.00\">class = Not Accept</text>\n</g>\n<!-- 11&#45;&gt;12 -->\n<g id=\"edge12\" class=\"edge\">\n<title>11&#45;&gt;12</title>\n<path fill=\"none\" stroke=\"black\" d=\"M821.67,-222.91C816.18,-214.1 810.31,-204.7 804.64,-195.61\"/>\n<polygon fill=\"black\" stroke=\"black\" points=\"807.55,-193.65 799.28,-187.02 801.61,-197.36 807.55,-193.65\"/>\n</g>\n<!-- 15 -->\n<g id=\"node16\" class=\"node\">\n<title>15</title>\n<path fill=\"#ffffff\" stroke=\"black\" d=\"M972,-187C972,-187 868,-187 868,-187 862,-187 856,-181 856,-175 856,-175 856,-116 856,-116 856,-110 862,-104 868,-104 868,-104 972,-104 972,-104 978,-104 984,-110 984,-116 984,-116 984,-175 984,-175 984,-181 978,-187 972,-187\"/>\n<text text-anchor=\"start\" x=\"873\" y=\"-171.8\" font-family=\"Helvetica,sans-Serif\" font-size=\"14.00\">Education ≤ 0.5</text>\n<text text-anchor=\"start\" x=\"880\" y=\"-156.8\" font-family=\"Helvetica,sans-Serif\" font-size=\"14.00\">entropy = 1.0</text>\n<text text-anchor=\"start\" x=\"879\" y=\"-141.8\" font-family=\"Helvetica,sans-Serif\" font-size=\"14.00\">samples = 42</text>\n<text text-anchor=\"start\" x=\"873\" y=\"-126.8\" font-family=\"Helvetica,sans-Serif\" font-size=\"14.00\">value = [21, 21]</text>\n<text text-anchor=\"start\" x=\"864\" y=\"-111.8\" font-family=\"Helvetica,sans-Serif\" font-size=\"14.00\">class = Not Accept</text>\n</g>\n<!-- 11&#45;&gt;15 -->\n<g id=\"edge15\" class=\"edge\">\n<title>11&#45;&gt;15</title>\n<path fill=\"none\" stroke=\"black\" d=\"M872.33,-222.91C877.82,-214.1 883.69,-204.7 889.36,-195.61\"/>\n<polygon fill=\"black\" stroke=\"black\" points=\"892.39,-197.36 894.72,-187.02 886.45,-193.65 892.39,-197.36\"/>\n</g>\n<!-- 13 -->\n<g id=\"node14\" class=\"node\">\n<title>13</title>\n<path fill=\"#e89051\" stroke=\"black\" d=\"M684,-68C684,-68 580,-68 580,-68 574,-68 568,-62 568,-56 568,-56 568,-12 568,-12 568,-6 574,0 580,0 580,0 684,0 684,0 690,0 696,-6 696,-12 696,-12 696,-56 696,-56 696,-62 690,-68 684,-68\"/>\n<text text-anchor=\"start\" x=\"584.5\" y=\"-52.8\" font-family=\"Helvetica,sans-Serif\" font-size=\"14.00\">entropy = 0.491</text>\n<text text-anchor=\"start\" x=\"587\" y=\"-37.8\" font-family=\"Helvetica,sans-Serif\" font-size=\"14.00\">samples = 252</text>\n<text text-anchor=\"start\" x=\"581.5\" y=\"-22.8\" font-family=\"Helvetica,sans-Serif\" font-size=\"14.00\">value = [225, 27]</text>\n<text text-anchor=\"start\" x=\"576\" y=\"-7.8\" font-family=\"Helvetica,sans-Serif\" font-size=\"14.00\">class = Not Accept</text>\n</g>\n<!-- 12&#45;&gt;13 -->\n<g id=\"edge13\" class=\"edge\">\n<title>12&#45;&gt;13</title>\n<path fill=\"none\" stroke=\"black\" d=\"M721.12,-103.73C708.71,-94.15 695.49,-83.96 683.15,-74.44\"/>\n<polygon fill=\"black\" stroke=\"black\" points=\"685.24,-71.63 675.18,-68.3 680.96,-77.18 685.24,-71.63\"/>\n</g>\n<!-- 14 -->\n<g id=\"node15\" class=\"node\">\n<title>14</title>\n<path fill=\"#e68743\" stroke=\"black\" d=\"M830,-68C830,-68 726,-68 726,-68 720,-68 714,-62 714,-56 714,-56 714,-12 714,-12 714,-6 720,0 726,0 726,0 830,0 830,0 836,0 842,-6 842,-12 842,-12 842,-56 842,-56 842,-62 836,-68 830,-68\"/>\n<text text-anchor=\"start\" x=\"730.5\" y=\"-52.8\" font-family=\"Helvetica,sans-Serif\" font-size=\"14.00\">entropy = 0.274</text>\n<text text-anchor=\"start\" x=\"733\" y=\"-37.8\" font-family=\"Helvetica,sans-Serif\" font-size=\"14.00\">samples = 318</text>\n<text text-anchor=\"start\" x=\"727.5\" y=\"-22.8\" font-family=\"Helvetica,sans-Serif\" font-size=\"14.00\">value = [303, 15]</text>\n<text text-anchor=\"start\" x=\"722\" y=\"-7.8\" font-family=\"Helvetica,sans-Serif\" font-size=\"14.00\">class = Not Accept</text>\n</g>\n<!-- 12&#45;&gt;14 -->\n<g id=\"edge14\" class=\"edge\">\n<title>12&#45;&gt;14</title>\n<path fill=\"none\" stroke=\"black\" d=\"M775.49,-103.73C775.79,-95.52 776.11,-86.86 776.41,-78.56\"/>\n<polygon fill=\"black\" stroke=\"black\" points=\"779.92,-78.42 776.78,-68.3 772.92,-78.17 779.92,-78.42\"/>\n</g>\n<!-- 16 -->\n<g id=\"node17\" class=\"node\">\n<title>16</title>\n<path fill=\"#6ab6ec\" stroke=\"black\" d=\"M959.5,-68C959.5,-68 872.5,-68 872.5,-68 866.5,-68 860.5,-62 860.5,-56 860.5,-56 860.5,-12 860.5,-12 860.5,-6 866.5,0 872.5,0 872.5,0 959.5,0 959.5,0 965.5,0 971.5,-6 971.5,-12 971.5,-12 971.5,-56 971.5,-56 971.5,-62 965.5,-68 959.5,-68\"/>\n<text text-anchor=\"start\" x=\"868.5\" y=\"-52.8\" font-family=\"Helvetica,sans-Serif\" font-size=\"14.00\">entropy = 0.722</text>\n<text text-anchor=\"start\" x=\"875\" y=\"-37.8\" font-family=\"Helvetica,sans-Serif\" font-size=\"14.00\">samples = 10</text>\n<text text-anchor=\"start\" x=\"876.5\" y=\"-22.8\" font-family=\"Helvetica,sans-Serif\" font-size=\"14.00\">value = [2, 8]</text>\n<text text-anchor=\"start\" x=\"872\" y=\"-7.8\" font-family=\"Helvetica,sans-Serif\" font-size=\"14.00\">class = Accept</text>\n</g>\n<!-- 15&#45;&gt;16 -->\n<g id=\"edge16\" class=\"edge\">\n<title>15&#45;&gt;16</title>\n<path fill=\"none\" stroke=\"black\" d=\"M918.51,-103.73C918.21,-95.52 917.89,-86.86 917.59,-78.56\"/>\n<polygon fill=\"black\" stroke=\"black\" points=\"921.08,-78.17 917.22,-68.3 914.08,-78.42 921.08,-78.17\"/>\n</g>\n<!-- 17 -->\n<g id=\"node18\" class=\"node\">\n<title>17</title>\n<path fill=\"#f7d7c0\" stroke=\"black\" d=\"M1106,-68C1106,-68 1002,-68 1002,-68 996,-68 990,-62 990,-56 990,-56 990,-12 990,-12 990,-6 996,0 1002,0 1002,0 1106,0 1106,0 1112,0 1118,-6 1118,-12 1118,-12 1118,-56 1118,-56 1118,-62 1112,-68 1106,-68\"/>\n<text text-anchor=\"start\" x=\"1006.5\" y=\"-52.8\" font-family=\"Helvetica,sans-Serif\" font-size=\"14.00\">entropy = 0.974</text>\n<text text-anchor=\"start\" x=\"1013\" y=\"-37.8\" font-family=\"Helvetica,sans-Serif\" font-size=\"14.00\">samples = 32</text>\n<text text-anchor=\"start\" x=\"1007\" y=\"-22.8\" font-family=\"Helvetica,sans-Serif\" font-size=\"14.00\">value = [19, 13]</text>\n<text text-anchor=\"start\" x=\"998\" y=\"-7.8\" font-family=\"Helvetica,sans-Serif\" font-size=\"14.00\">class = Not Accept</text>\n</g>\n<!-- 15&#45;&gt;17 -->\n<g id=\"edge17\" class=\"edge\">\n<title>15&#45;&gt;17</title>\n<path fill=\"none\" stroke=\"black\" d=\"M969.9,-103.73C981.5,-94.24 993.85,-84.16 1005.4,-74.72\"/>\n<polygon fill=\"black\" stroke=\"black\" points=\"1007.72,-77.34 1013.25,-68.3 1003.29,-71.92 1007.72,-77.34\"/>\n</g>\n<!-- 19 -->\n<g id=\"node20\" class=\"node\">\n<title>19</title>\n<path fill=\"#fbece1\" stroke=\"black\" d=\"M1314,-187C1314,-187 1210,-187 1210,-187 1204,-187 1198,-181 1198,-175 1198,-175 1198,-116 1198,-116 1198,-110 1204,-104 1210,-104 1210,-104 1314,-104 1314,-104 1320,-104 1326,-110 1326,-116 1326,-116 1326,-175 1326,-175 1326,-181 1320,-187 1314,-187\"/>\n<text text-anchor=\"start\" x=\"1222.5\" y=\"-171.8\" font-family=\"Helvetica,sans-Serif\" font-size=\"14.00\">Income ≤ 0.5</text>\n<text text-anchor=\"start\" x=\"1214.5\" y=\"-156.8\" font-family=\"Helvetica,sans-Serif\" font-size=\"14.00\">entropy = 0.995</text>\n<text text-anchor=\"start\" x=\"1217\" y=\"-141.8\" font-family=\"Helvetica,sans-Serif\" font-size=\"14.00\">samples = 159</text>\n<text text-anchor=\"start\" x=\"1215\" y=\"-126.8\" font-family=\"Helvetica,sans-Serif\" font-size=\"14.00\">value = [86, 73]</text>\n<text text-anchor=\"start\" x=\"1206\" y=\"-111.8\" font-family=\"Helvetica,sans-Serif\" font-size=\"14.00\">class = Not Accept</text>\n</g>\n<!-- 18&#45;&gt;19 -->\n<g id=\"edge19\" class=\"edge\">\n<title>18&#45;&gt;19</title>\n<path fill=\"none\" stroke=\"black\" d=\"M1262,-222.91C1262,-214.65 1262,-205.86 1262,-197.3\"/>\n<polygon fill=\"black\" stroke=\"black\" points=\"1265.5,-197.02 1262,-187.02 1258.5,-197.02 1265.5,-197.02\"/>\n</g>\n<!-- 22 -->\n<g id=\"node23\" class=\"node\">\n<title>22</title>\n<path fill=\"#48a4e7\" stroke=\"black\" d=\"M1516,-187C1516,-187 1418,-187 1418,-187 1412,-187 1406,-181 1406,-175 1406,-175 1406,-116 1406,-116 1406,-110 1412,-104 1418,-104 1418,-104 1516,-104 1516,-104 1522,-104 1528,-110 1528,-116 1528,-116 1528,-175 1528,-175 1528,-181 1522,-187 1516,-187\"/>\n<text text-anchor=\"start\" x=\"1414\" y=\"-171.8\" font-family=\"Helvetica,sans-Serif\" font-size=\"14.00\">CD Account ≤ 0.5</text>\n<text text-anchor=\"start\" x=\"1419.5\" y=\"-156.8\" font-family=\"Helvetica,sans-Serif\" font-size=\"14.00\">entropy = 0.367</text>\n<text text-anchor=\"start\" x=\"1422\" y=\"-141.8\" font-family=\"Helvetica,sans-Serif\" font-size=\"14.00\">samples = 242</text>\n<text text-anchor=\"start\" x=\"1416.5\" y=\"-126.8\" font-family=\"Helvetica,sans-Serif\" font-size=\"14.00\">value = [17, 225]</text>\n<text text-anchor=\"start\" x=\"1423\" y=\"-111.8\" font-family=\"Helvetica,sans-Serif\" font-size=\"14.00\">class = Accept</text>\n</g>\n<!-- 18&#45;&gt;22 -->\n<g id=\"edge22\" class=\"edge\">\n<title>18&#45;&gt;22</title>\n<path fill=\"none\" stroke=\"black\" d=\"M1324.62,-227.76C1347.49,-214.71 1373.49,-199.87 1396.96,-186.47\"/>\n<polygon fill=\"black\" stroke=\"black\" points=\"1398.87,-189.41 1405.82,-181.42 1395.4,-183.34 1398.87,-189.41\"/>\n</g>\n<!-- 20 -->\n<g id=\"node21\" class=\"node\">\n<title>20</title>\n<path fill=\"#f6d4bb\" stroke=\"black\" d=\"M1252,-68C1252,-68 1148,-68 1148,-68 1142,-68 1136,-62 1136,-56 1136,-56 1136,-12 1136,-12 1136,-6 1142,0 1148,0 1148,0 1252,0 1252,0 1258,0 1264,-6 1264,-12 1264,-12 1264,-56 1264,-56 1264,-62 1258,-68 1252,-68\"/>\n<text text-anchor=\"start\" x=\"1152.5\" y=\"-52.8\" font-family=\"Helvetica,sans-Serif\" font-size=\"14.00\">entropy = 0.968</text>\n<text text-anchor=\"start\" x=\"1155\" y=\"-37.8\" font-family=\"Helvetica,sans-Serif\" font-size=\"14.00\">samples = 139</text>\n<text text-anchor=\"start\" x=\"1153\" y=\"-22.8\" font-family=\"Helvetica,sans-Serif\" font-size=\"14.00\">value = [84, 55]</text>\n<text text-anchor=\"start\" x=\"1144\" y=\"-7.8\" font-family=\"Helvetica,sans-Serif\" font-size=\"14.00\">class = Not Accept</text>\n</g>\n<!-- 19&#45;&gt;20 -->\n<g id=\"edge20\" class=\"edge\">\n<title>19&#45;&gt;20</title>\n<path fill=\"none\" stroke=\"black\" d=\"M1238.91,-103.73C1234.01,-95.06 1228.82,-85.9 1223.88,-77.18\"/>\n<polygon fill=\"black\" stroke=\"black\" points=\"1226.83,-75.28 1218.85,-68.3 1220.74,-78.73 1226.83,-75.28\"/>\n</g>\n<!-- 21 -->\n<g id=\"node22\" class=\"node\">\n<title>21</title>\n<path fill=\"#4fa8e8\" stroke=\"black\" d=\"M1381.5,-68C1381.5,-68 1294.5,-68 1294.5,-68 1288.5,-68 1282.5,-62 1282.5,-56 1282.5,-56 1282.5,-12 1282.5,-12 1282.5,-6 1288.5,0 1294.5,0 1294.5,0 1381.5,0 1381.5,0 1387.5,0 1393.5,-6 1393.5,-12 1393.5,-12 1393.5,-56 1393.5,-56 1393.5,-62 1387.5,-68 1381.5,-68\"/>\n<text text-anchor=\"start\" x=\"1290.5\" y=\"-52.8\" font-family=\"Helvetica,sans-Serif\" font-size=\"14.00\">entropy = 0.469</text>\n<text text-anchor=\"start\" x=\"1297\" y=\"-37.8\" font-family=\"Helvetica,sans-Serif\" font-size=\"14.00\">samples = 20</text>\n<text text-anchor=\"start\" x=\"1295\" y=\"-22.8\" font-family=\"Helvetica,sans-Serif\" font-size=\"14.00\">value = [2, 18]</text>\n<text text-anchor=\"start\" x=\"1294\" y=\"-7.8\" font-family=\"Helvetica,sans-Serif\" font-size=\"14.00\">class = Accept</text>\n</g>\n<!-- 19&#45;&gt;21 -->\n<g id=\"edge21\" class=\"edge\">\n<title>19&#45;&gt;21</title>\n<path fill=\"none\" stroke=\"black\" d=\"M1290.3,-103.73C1296.44,-94.88 1302.94,-85.51 1309.11,-76.63\"/>\n<polygon fill=\"black\" stroke=\"black\" points=\"1312.06,-78.51 1314.89,-68.3 1306.31,-74.52 1312.06,-78.51\"/>\n</g>\n<!-- 23 -->\n<g id=\"node24\" class=\"node\">\n<title>23</title>\n<path fill=\"#57ace9\" stroke=\"black\" d=\"M1510.5,-68C1510.5,-68 1423.5,-68 1423.5,-68 1417.5,-68 1411.5,-62 1411.5,-56 1411.5,-56 1411.5,-12 1411.5,-12 1411.5,-6 1417.5,0 1423.5,0 1423.5,0 1510.5,0 1510.5,0 1516.5,0 1522.5,-6 1522.5,-12 1522.5,-12 1522.5,-56 1522.5,-56 1522.5,-62 1516.5,-68 1510.5,-68\"/>\n<text text-anchor=\"start\" x=\"1419.5\" y=\"-52.8\" font-family=\"Helvetica,sans-Serif\" font-size=\"14.00\">entropy = 0.567</text>\n<text text-anchor=\"start\" x=\"1426\" y=\"-37.8\" font-family=\"Helvetica,sans-Serif\" font-size=\"14.00\">samples = 75</text>\n<text text-anchor=\"start\" x=\"1420\" y=\"-22.8\" font-family=\"Helvetica,sans-Serif\" font-size=\"14.00\">value = [10, 65]</text>\n<text text-anchor=\"start\" x=\"1423\" y=\"-7.8\" font-family=\"Helvetica,sans-Serif\" font-size=\"14.00\">class = Accept</text>\n</g>\n<!-- 22&#45;&gt;23 -->\n<g id=\"edge23\" class=\"edge\">\n<title>22&#45;&gt;23</title>\n<path fill=\"none\" stroke=\"black\" d=\"M1467,-103.73C1467,-95.52 1467,-86.86 1467,-78.56\"/>\n<polygon fill=\"black\" stroke=\"black\" points=\"1470.5,-78.3 1467,-68.3 1463.5,-78.3 1470.5,-78.3\"/>\n</g>\n<!-- 24 -->\n<g id=\"node25\" class=\"node\">\n<title>24</title>\n<path fill=\"#42a1e6\" stroke=\"black\" d=\"M1639.5,-68C1639.5,-68 1552.5,-68 1552.5,-68 1546.5,-68 1540.5,-62 1540.5,-56 1540.5,-56 1540.5,-12 1540.5,-12 1540.5,-6 1546.5,0 1552.5,0 1552.5,0 1639.5,0 1639.5,0 1645.5,0 1651.5,-6 1651.5,-12 1651.5,-12 1651.5,-56 1651.5,-56 1651.5,-62 1645.5,-68 1639.5,-68\"/>\n<text text-anchor=\"start\" x=\"1548.5\" y=\"-52.8\" font-family=\"Helvetica,sans-Serif\" font-size=\"14.00\">entropy = 0.251</text>\n<text text-anchor=\"start\" x=\"1551\" y=\"-37.8\" font-family=\"Helvetica,sans-Serif\" font-size=\"14.00\">samples = 167</text>\n<text text-anchor=\"start\" x=\"1549\" y=\"-22.8\" font-family=\"Helvetica,sans-Serif\" font-size=\"14.00\">value = [7, 160]</text>\n<text text-anchor=\"start\" x=\"1552\" y=\"-7.8\" font-family=\"Helvetica,sans-Serif\" font-size=\"14.00\">class = Accept</text>\n</g>\n<!-- 22&#45;&gt;24 -->\n<g id=\"edge24\" class=\"edge\">\n<title>22&#45;&gt;24</title>\n<path fill=\"none\" stroke=\"black\" d=\"M1515.03,-103.73C1526.1,-94.33 1537.86,-84.35 1548.89,-74.99\"/>\n<polygon fill=\"black\" stroke=\"black\" points=\"1551.41,-77.44 1556.77,-68.3 1546.88,-72.1 1551.41,-77.44\"/>\n</g>\n</g>\n</svg>\n",
            "text/plain": [
              "<graphviz.sources.Source at 0x7f0963827400>"
            ]
          },
          "metadata": {},
          "execution_count": 91
        }
      ],
      "source": [
        "# Enter your code for Q6.1\n",
        "# visualize tree\n",
        "from sklearn import tree\n",
        "import graphviz\n",
        "\n",
        "X_df = pd.DataFrame(X, columns=['Age', 'Experience', 'Income', 'CCAvg', 'Education', 'Securities_Account', 'CD Account', 'Online', 'CreditCard'])\n",
        "dot_data = tree.export_graphviz(dt_classifier,\n",
        "                                feature_names=X_df.columns,\n",
        "                                class_names=['Not Accept','Accept'],\n",
        "                                filled=True, rounded=True,\n",
        "                                special_characters=True)\n",
        "# visualize tree\n",
        "graph = graphviz.Source(dot_data)\n",
        "\n",
        "graph"
      ]
    },
    {
      "cell_type": "code",
      "source": [
        "# Decision rule --> If Income is less than or equal to 0.5 and Education is less than or equal to 0.5, then the prediction is 'Not Accept'.\n",
        "income_samples = 612\n",
        "income_not_accept = 549\n",
        "education_samples = 42\n",
        "education_not_accept = 21\n",
        "\n",
        "# support for the rule\n",
        "support_count = min(income_samples, education_samples)\n",
        "\n",
        "# confidence for the rule\n",
        "correctly_classified_count = min(income_not_accept, education_not_accept)\n",
        "\n",
        "# Calculate support and confidence\n",
        "support = support_count / income_samples\n",
        "confidence = correctly_classified_count / support_count if support_count > 0 else 0  # Avoid division by zero\n",
        "\n",
        "# final support and confidence\n",
        "print(\"Support for the rule:\", support_count)\n",
        "print(\"Confidence for the rule:\", confidence)\n"
      ],
      "metadata": {
        "colab": {
          "base_uri": "https://localhost:8080/"
        },
        "id": "pHFP9E3rHP3A",
        "outputId": "dde15174-77fd-4965-89e7-0297ae56f3c0"
      },
      "id": "pHFP9E3rHP3A",
      "execution_count": 92,
      "outputs": [
        {
          "output_type": "stream",
          "name": "stdout",
          "text": [
            "Support for the rule: 42\n",
            "Confidence for the rule: 0.5\n"
          ]
        }
      ]
    },
    {
      "cell_type": "markdown",
      "id": "93164b6a",
      "metadata": {
        "id": "93164b6a"
      },
      "source": [
        "*Space reserved for writing explanation for Q6.2*\n",
        "\n"
      ]
    }
  ],
  "metadata": {
    "kernelspec": {
      "display_name": "Python 3 (ipykernel)",
      "language": "python",
      "name": "python3"
    },
    "language_info": {
      "codemirror_mode": {
        "name": "ipython",
        "version": 3
      },
      "file_extension": ".py",
      "mimetype": "text/x-python",
      "name": "python",
      "nbconvert_exporter": "python",
      "pygments_lexer": "ipython3",
      "version": "3.9.13"
    },
    "colab": {
      "provenance": [],
      "include_colab_link": true
    }
  },
  "nbformat": 4,
  "nbformat_minor": 5
}